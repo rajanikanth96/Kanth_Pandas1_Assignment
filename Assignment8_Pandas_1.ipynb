{
 "cells": [
  {
   "cell_type": "code",
   "execution_count": 47,
   "metadata": {},
   "outputs": [
    {
     "name": "stdout",
     "output_type": "stream",
     "text": [
      "The list for Y is :  [1, 2, 0, 1, 2, 3, 4, 0, 1, 2]\n",
      "After appending Y list the dataframe is \n",
      "     X  Y\n",
      "0  7  1\n",
      "1  2  2\n",
      "2  0  0\n",
      "3  3  1\n",
      "4  4  2\n",
      "5  2  3\n",
      "6  5  4\n",
      "7  0  0\n",
      "8  3  1\n",
      "9  4  2\n"
     ]
    }
   ],
   "source": [
    "# 1. How-to-count-distance-to-the-previous-zero\n",
    "import pandas as pd\n",
    "import numpy as np\n",
    "df = pd.DataFrame({'X':[7,2,0,3,4,2,5,0,3,4]})\n",
    "# Loop through X and find value if o or not \n",
    "# assign the value when envounter 0 to y of 0 else count \n",
    "Y = []\n",
    "count = 0 \n",
    "i=0\n",
    "# Iterate through columns/rows \n",
    "for index, row in df.iterrows():\n",
    "    if (row['X'] !=0):\n",
    "        count = count+1\n",
    "        Y.append(count)\n",
    "    elif (row['X'] ==0):\n",
    "        Y.append(0)\n",
    "        count=0\n",
    "\n",
    "df['Y'] = Y\n",
    "\n",
    "print(\"The list for Y is : \", Y)\n",
    "print(\"After appending Y list the dataframe is \\n \" , df)"
   ]
  },
  {
   "cell_type": "code",
   "execution_count": null,
   "metadata": {},
   "outputs": [],
   "source": [
    "# 2. Create a DatetimeIndex that contains each business day of 2015 and use it to index a Series of random numbers\n",
    "\n"
   ]
  },
  {
   "cell_type": "code",
   "execution_count": null,
   "metadata": {},
   "outputs": [],
   "source": []
  }
 ],
 "metadata": {
  "kernelspec": {
   "display_name": "Python 3",
   "language": "python",
   "name": "python3"
  },
  "language_info": {
   "codemirror_mode": {
    "name": "ipython",
    "version": 3
   },
   "file_extension": ".py",
   "mimetype": "text/x-python",
   "name": "python",
   "nbconvert_exporter": "python",
   "pygments_lexer": "ipython3",
   "version": "3.6.5"
  }
 },
 "nbformat": 4,
 "nbformat_minor": 2
}
